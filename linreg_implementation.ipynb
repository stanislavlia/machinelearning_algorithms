{
 "cells": [
  {
   "cell_type": "code",
   "execution_count": 3,
   "id": "d45b08e4",
   "metadata": {},
   "outputs": [],
   "source": [
    "import numpy as np\n",
    "import matplotlib.pyplot as plt"
   ]
  },
  {
   "cell_type": "code",
   "execution_count": 4,
   "id": "745a4267",
   "metadata": {},
   "outputs": [],
   "source": [
    "class LinearRegression():\n",
    "    def __init__(self):\n",
    "        weights = None\n",
    "        bias = None\n",
    "        \n",
    "        self.X = None\n",
    "        self.Y = None\n",
    "        \n",
    "    def _MSE(self, Y_est):\n",
    "        \n",
    "        MSE = (1 / len(Y_est)) * np.sum((Y_est - self.Y) ** 2)\n",
    "        return MSE\n",
    "    \n",
    "    def predict(self, X):\n",
    "        return np.dot(data, weights)\n",
    "    \n",
    "    def compute_gradients(self, Y_est):\n",
    "        \n",
    "        errors = (Y_est - self.Y)\n",
    "        \n",
    "        weights_grad = 2 * errors * self.X\n",
    "    \n",
    "    "
   ]
  },
  {
   "cell_type": "code",
   "execution_count": 15,
   "id": "0a8d7b59",
   "metadata": {},
   "outputs": [
    {
     "data": {
      "text/plain": [
       "array([[15],\n",
       "       [17],\n",
       "       [ 0]])"
      ]
     },
     "execution_count": 15,
     "metadata": {},
     "output_type": "execute_result"
    }
   ],
   "source": [
    "weights = np.array([[2],\n",
    "                    [3],\n",
    "                    [5]])\n",
    "\n",
    "data =  np.array([\n",
    "    [1, 1, 2],\n",
    "    [3, 2, 1],\n",
    "    [0, 0, 0]\n",
    "])\n",
    "\n",
    "np.dot(data, weights)"
   ]
  },
  {
   "cell_type": "code",
   "execution_count": null,
   "id": "479d257e",
   "metadata": {},
   "outputs": [],
   "source": []
  }
 ],
 "metadata": {
  "kernelspec": {
   "display_name": "Python 3 (ipykernel)",
   "language": "python",
   "name": "python3"
  },
  "language_info": {
   "codemirror_mode": {
    "name": "ipython",
    "version": 3
   },
   "file_extension": ".py",
   "mimetype": "text/x-python",
   "name": "python",
   "nbconvert_exporter": "python",
   "pygments_lexer": "ipython3",
   "version": "3.10.6"
  }
 },
 "nbformat": 4,
 "nbformat_minor": 5
}
