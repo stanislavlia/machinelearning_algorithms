{
 "cells": [
  {
   "cell_type": "code",
   "execution_count": 3,
   "id": "39999738",
   "metadata": {},
   "outputs": [],
   "source": [
    "import numpy as np\n",
    "import matplotlib.pyplot as plt"
   ]
  },
  {
   "cell_type": "code",
   "execution_count": 121,
   "id": "d3298fc4",
   "metadata": {},
   "outputs": [],
   "source": [
    "class LinearRegression():\n",
    "    def __init__(self):\n",
    "        weights = None\n",
    "        bias = None\n",
    "        \n",
    "        self.X = None\n",
    "        self.Y = None\n",
    "        \n",
    "    def _MSE(self, Y_est):\n",
    "        \n",
    "        MSE = (1 / len(Y_est)) * np.sum((Y_est - self.Y) ** 2)\n",
    "        return MSE\n",
    "    \n",
    "    def predict(self, X):\n",
    "        return np.dot(X, self.weights) + self.bias\n",
    "    \n",
    "    def compute_gradients(self, Y_est):\n",
    "        \n",
    "        errors = (Y_est - self.Y)\n",
    "        n = self.X.shape[0]\n",
    "        \n",
    "        W_gradients = (2 / n) * np.dot(self.X.T, errors)\n",
    "        b_gradient  = (2 / n) * np.sum(errors)\n",
    "        \n",
    "        return W_gradients, b_gradient\n",
    "    \n",
    "    def fit(self, X, Y, alpha=0.001, epochs=100):\n",
    "        \n",
    "        self.X = X\n",
    "        self.Y = Y\n",
    "        print( \"X_shape \",self.X.shape)\n",
    "        print( \"Y_shape \",self.Y.shape)\n",
    "        \n",
    "        \n",
    "        #intialize weights\n",
    "        self.weights = np.random.random((X.shape[1],1))\n",
    "        \n",
    "        print(\"Weights shape :\", self.weights.shape)\n",
    "        self.bias = np.random.random()\n",
    "        \n",
    "        for epoch_num in range(1, epochs+1):\n",
    "            \n",
    "            Y_est = self.predict(self.X)\n",
    "            \n",
    "            MSE = self._MSE(Y_est)\n",
    "            \n",
    "            #setting step to display MSE\n",
    "            epoch_step = epochs // 10\n",
    "            \n",
    "             \n",
    "            if (epoch_num % epoch_step) == 0:\n",
    "            \n",
    "                print(\"Epoch num {}; MSE = {}\".format(epoch_num, MSE))\n",
    "            \n",
    "            w_grads, b_grad = self.compute_gradients(Y_est)\n",
    "\n",
    "            #correct weights\n",
    "            self.weights = self.weights - alpha * w_grads\n",
    "            self.bias = self.bias - alpha * b_grad\n",
    "            \n",
    "            \n",
    "        return (self.weights, self.bias)\n",
    "            \n",
    "        \n",
    "        \n",
    "    \n",
    "    "
   ]
  },
  {
   "cell_type": "code",
   "execution_count": 125,
   "id": "a24ad59e",
   "metadata": {},
   "outputs": [
    {
     "name": "stdout",
     "output_type": "stream",
     "text": [
      "X_shape  (4, 3)\n",
      "Y_shape  (4, 1)\n",
      "Weights shape : (3, 1)\n",
      "Epoch num 100; MSE = 0.07806785730691478\n",
      "Epoch num 200; MSE = 0.030262583809985578\n",
      "Epoch num 300; MSE = 0.011731127386472839\n",
      "Epoch num 400; MSE = 0.004547508257118578\n",
      "Epoch num 500; MSE = 0.001762817047951219\n",
      "Epoch num 600; MSE = 0.0006833465205220817\n",
      "Epoch num 700; MSE = 0.0002648955929104255\n",
      "Epoch num 800; MSE = 0.00010268534782288074\n",
      "Epoch num 900; MSE = 3.9805421229002934e-05\n",
      "Epoch num 1000; MSE = 1.543035684069813e-05\n",
      "(3, 1)\n"
     ]
    },
    {
     "data": {
      "text/plain": [
       "(array([[0.31651178],\n",
       "        [0.54359769],\n",
       "        [0.72715668]]),\n",
       " -1.9917629898336018)"
      ]
     },
     "execution_count": 125,
     "metadata": {},
     "output_type": "execute_result"
    }
   ],
   "source": [
    "X = np.array([[1, 0.9 , 3],\n",
    "              [2, 3, 1],\n",
    "              [0,  1,  2],\n",
    "               [4, 0, 1]])\n",
    "\n",
    "Y = np.array([1, 1, 0, 0]).reshape(-1, 1)\n",
    "\n",
    "linreg = LinearRegression()\n",
    "linreg.fit(X,Y, alpha=0.1 ,epochs=1000)\n"
   ]
  },
  {
   "cell_type": "code",
   "execution_count": null,
   "id": "e77d8d88",
   "metadata": {},
   "outputs": [],
   "source": []
  },
  {
   "cell_type": "code",
   "execution_count": null,
   "id": "5aef5f87",
   "metadata": {},
   "outputs": [],
   "source": []
  }
 ],
 "metadata": {
  "kernelspec": {
   "display_name": "Python 3 (ipykernel)",
   "language": "python",
   "name": "python3"
  },
  "language_info": {
   "codemirror_mode": {
    "name": "ipython",
    "version": 3
   },
   "file_extension": ".py",
   "mimetype": "text/x-python",
   "name": "python",
   "nbconvert_exporter": "python",
   "pygments_lexer": "ipython3",
   "version": "3.10.6"
  }
 },
 "nbformat": 4,
 "nbformat_minor": 5
}
