{
 "cells": [
  {
   "cell_type": "code",
   "execution_count": 50,
   "id": "cf2cd5ab",
   "metadata": {},
   "outputs": [],
   "source": [
    "import pandas as pd\n",
    "import numpy as np\n",
    "import matplotlib.pyplot as plt"
   ]
  },
  {
   "cell_type": "code",
   "execution_count": 185,
   "id": "fc3428ba",
   "metadata": {},
   "outputs": [],
   "source": [
    "class GDA():\n",
    "    def __init__(self):\n",
    "        \n",
    "        \n",
    "        self.X = None\n",
    "        self.X0 = None #matrix of objects which are 0 class\n",
    "        self.X1 = None #matrix of objects which are 1 class\n",
    "        \n",
    "        \n",
    "        self.m = None\n",
    "        \n",
    "        #prior probs\n",
    "        self.p0 = None\n",
    "        self.p1 = None \n",
    "    \n",
    "    def _get_vals(self, X, y):\n",
    "        \n",
    "        stack_data = np.column_stack((X,y))\n",
    "        \n",
    "        self.m = X.shape[0]\n",
    "        \n",
    "        #assigning correct data\n",
    "        self.X = X\n",
    "        self.X0 = stack_data[stack_data[: , -1] == 0, :-1]\n",
    "        self.X1 = stack_data[stack_data[: , -1] == 1, :-1]\n",
    "        \n",
    "        #compute agregatted mean  vectors\n",
    "        self.mu0_vec = np.mean(self.X0, axis=0)\n",
    "        self.mu1_vec = np.mean(self.X1, axis=0)\n",
    "        \n",
    "        #compute prior probs\n",
    "        self.p0 = self.X0.shape[0] / self.m\n",
    "        self.p1 = self.X1.shape[0] / self.m\n",
    "        \n",
    "        \n",
    "        \n",
    "    def _covariance(self, arr1, arr2):\n",
    "        \n",
    "        mu1 = np.mean(arr1)\n",
    "        mu2 = np.mean(arr2)\n",
    "        \n",
    "        covariance  = np.sum( np.multiply((arr1 - mu1), (arr2 - mu2)) ) / (len(arr1) - 1)\n",
    "        \n",
    "        return covariance\n",
    "    \n",
    "    def compute_cov_matrix(self):\n",
    "        \n",
    "        n = self.X.shape[1]\n",
    "        \n",
    "        #intializing empty matrix\n",
    "        self.cov_matrix = np.zeros((n, n))\n",
    "        \n",
    "        #filling the matrix\n",
    "        for i in range(n):\n",
    "            for j in range(n):\n",
    "                \n",
    "                arr1 = self.X[:, i]\n",
    "                arr2 = self.X[:, j]\n",
    "                \n",
    "                self.cov_matrix[i, j] = self._covariance(arr1, arr2)\n",
    "                \n",
    "    \n",
    "    def multivarNorm_pdf(self, x_vec, mu_vec):\n",
    "\n",
    "        n = self.X.shape[1]\n",
    "        covar_inv = np.linalg.inv(self.cov_matrix)\n",
    "\n",
    "        # Compute the square root of the determinant of the covariance matrix\n",
    "        sqrt_det_cov = np.sqrt(np.linalg.det(self.cov_matrix))\n",
    "\n",
    "        # Compute the normalization term (1 / (2*pi)^(n/2) / sqrt_det_cov)\n",
    "        norm_term = 1.0 / (((2 * np.pi) ** (n / 2.0)) * sqrt_det_cov)\n",
    "\n",
    "        # Compute the exponent part of the formula\n",
    "        x_minus_mu = x_vec - mu_vec\n",
    "        exponent_term = np.exp(-0.5 * np.dot(x_minus_mu.T, np.dot(covar_inv, x_minus_mu)))\n",
    "\n",
    "        # Return the full multivariate normal probability density\n",
    "        return norm_term * exponent_term\n",
    "\n",
    "    \n",
    "    def predict(self, X):\n",
    "        \n",
    "        n = X.shape[0]\n",
    "        \n",
    "        predictions = []\n",
    "        \n",
    "        for i in range(n):\n",
    "            \n",
    "            #using Bayesian rule to compute probs\n",
    "            \n",
    "            p_belong0 = self.p0 * self.multivarNorm_pdf(X[i], self.mu0_vec)\n",
    "            p_belong1 = self.p1 * self.multivarNorm_pdf(X[i], self.mu1_vec)\n",
    "            \n",
    "            predictions.append(int(p_belong1 >= p_belong0))\n",
    "        \n",
    "        return np.array(predictions)\n",
    "    \n",
    "    def fit(self, X, y):\n",
    "        \n",
    "        self._get_vals(X, y)\n",
    "        self.compute_cov_matrix()"
   ]
  },
  {
   "cell_type": "markdown",
   "id": "075ca543",
   "metadata": {},
   "source": [
    "## Trying implementation on  simple dataset"
   ]
  },
  {
   "cell_type": "code",
   "execution_count": 203,
   "id": "bfc3c364",
   "metadata": {},
   "outputs": [],
   "source": [
    "df = pd.read_csv(\"synthetic_fraud_data.csv\")\n",
    "\n",
    "df = df.sample(frac=1, random_state=2).reset_index(drop=True)\n",
    "\n",
    "train_df = df[:130]\n",
    "test_df = df[130:]\n",
    "\n",
    "X_train = train_df.drop(\"Label\", axis=1).values\n",
    "X_test = test_df.drop(\"Label\", axis=1).values\n",
    "\n",
    "y_train = train_df[\"Label\"].values\n",
    "y_test = test_df[\"Label\"].values\n"
   ]
  },
  {
   "cell_type": "code",
   "execution_count": 204,
   "id": "f2324121",
   "metadata": {},
   "outputs": [],
   "source": [
    "gda = GDA()\n",
    "gda.fit(X_train, y_train)\n",
    "\n",
    "y_est = gda.predict(X_test)"
   ]
  },
  {
   "cell_type": "code",
   "execution_count": 202,
   "id": "51476340",
   "metadata": {},
   "outputs": [
    {
     "data": {
      "text/plain": [
       "1.0"
      ]
     },
     "execution_count": 202,
     "metadata": {},
     "output_type": "execute_result"
    }
   ],
   "source": [
    "from sklearn.metrics import accuracy_score\n",
    "\n",
    "\n",
    "accuracy_score(y_test, y_est)"
   ]
  },
  {
   "cell_type": "markdown",
   "id": "50f6239e",
   "metadata": {},
   "source": [
    "## Trying GDA on real data"
   ]
  },
  {
   "cell_type": "code",
   "execution_count": 213,
   "id": "2b4498e3",
   "metadata": {},
   "outputs": [],
   "source": [
    "heart_df = pd.read_csv(\"heart.csv\")\n",
    "\n",
    "X = heart_df.drop(\"target\", axis=1).values\n",
    "y = heart_df[\"target\"].values\n",
    "\n"
   ]
  },
  {
   "cell_type": "code",
   "execution_count": 214,
   "id": "61c652d4",
   "metadata": {},
   "outputs": [],
   "source": [
    "from sklearn.model_selection import train_test_split\n",
    "\n",
    "X_train, X_test, y_train, y_test = train_test_split(X,y, random_state=1, train_size=0.6)"
   ]
  },
  {
   "cell_type": "code",
   "execution_count": 222,
   "id": "4ad66cc0",
   "metadata": {},
   "outputs": [
    {
     "data": {
      "text/plain": [
       "0.7786885245901639"
      ]
     },
     "execution_count": 222,
     "metadata": {},
     "output_type": "execute_result"
    }
   ],
   "source": [
    "\n",
    "gda_real = GDA()\n",
    "gda_real.fit(X_train, y_train)\n",
    "\n",
    "y_hear_est = gda_real.predict(X_test)\n",
    "\n",
    "accuracy_score(y_hear_est, y_test)"
   ]
  },
  {
   "cell_type": "code",
   "execution_count": 223,
   "id": "702b9eea",
   "metadata": {},
   "outputs": [],
   "source": [
    "#So, it indeed works"
   ]
  },
  {
   "cell_type": "code",
   "execution_count": null,
   "id": "87e15de3",
   "metadata": {},
   "outputs": [],
   "source": []
  }
 ],
 "metadata": {
  "kernelspec": {
   "display_name": "Python 3 (ipykernel)",
   "language": "python",
   "name": "python3"
  },
  "language_info": {
   "codemirror_mode": {
    "name": "ipython",
    "version": 3
   },
   "file_extension": ".py",
   "mimetype": "text/x-python",
   "name": "python",
   "nbconvert_exporter": "python",
   "pygments_lexer": "ipython3",
   "version": "3.10.6"
  }
 },
 "nbformat": 4,
 "nbformat_minor": 5
}
